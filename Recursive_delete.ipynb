{
 "cells": [
  {
   "cell_type": "markdown",
   "id": "3ed5c0a8-7e86-40ea-9a9e-32d1ff3788b8",
   "metadata": {},
   "source": [
    "# Waring!\n",
    "## Dieses Script löscht rekursiv alle dateien in dem Ordner in dem es sich befindet!\n",
    "## This script recursively deletes all files in the folder in which it is located!"
   ]
  },
  {
   "cell_type": "code",
   "execution_count": 2,
   "id": "6804ada3-6772-462c-8d80-2e16dc2ffa89",
   "metadata": {},
   "outputs": [
    {
     "name": "stdout",
     "output_type": "stream",
     "text": [
      "Folgende Elemente werden in den Unterordnern des aktuellen Arbeitsverzeichnisses gelöscht:\n",
      "- Datei: /home/jovyan/work/Analysis/automated_executions/.ipynb_checkpoints/REKURSIVES LOESCHEN!-checkpoint.ipynb\n",
      "- Ordner: /home/jovyan/work/Analysis/automated_executions/51.tif/tmp\n",
      "- Ordner: /home/jovyan/work/Analysis/automated_executions/51.tif\n",
      "- Ordner: /home/jovyan/work/Analysis/automated_executions/12.tif/tmp\n",
      "- Ordner: /home/jovyan/work/Analysis/automated_executions/12.tif\n",
      "- Ordner: /home/jovyan/work/Analysis/automated_executions/13_slr.tif/tmp\n",
      "- Ordner: /home/jovyan/work/Analysis/automated_executions/13_slr.tif\n",
      "- Ordner: /home/jovyan/work/Analysis/automated_executions/10.tif/tmp\n",
      "- Ordner: /home/jovyan/work/Analysis/automated_executions/10.tif\n",
      "- Ordner: /home/jovyan/work/Analysis/automated_executions/15.tif/tmp\n",
      "- Ordner: /home/jovyan/work/Analysis/automated_executions/15.tif\n",
      "- Ordner: /home/jovyan/work/Analysis/automated_executions/.ipynb_checkpoints\n",
      "- Ordner: /home/jovyan/work/Analysis/automated_executions/09_kABC.tif/tmp\n",
      "- Ordner: /home/jovyan/work/Analysis/automated_executions/09_kABC.tif\n",
      "- Ordner: /home/jovyan/work/Analysis/automated_executions/11.tif/tmp/.ipynb_checkpoints\n",
      "- Ordner: /home/jovyan/work/Analysis/automated_executions/11.tif/tmp\n",
      "- Ordner: /home/jovyan/work/Analysis/automated_executions/11.tif\n"
     ]
    },
    {
     "data": {
      "application/vnd.jupyter.widget-view+json": {
       "model_id": "ec76546b97a342c19ddc39c2148290f8",
       "version_major": 2,
       "version_minor": 0
      },
      "text/plain": [
       "VBox(children=(Button(button_style='danger', description='Ja, löschen', style=ButtonStyle()), Button(descripti…"
      ]
     },
     "metadata": {},
     "output_type": "display_data"
    }
   ],
   "source": [
    "import os\n",
    "import ipywidgets as widgets\n",
    "from IPython.display import display\n",
    "from IPython.display import clear_output\n",
    "\n",
    "def finde_und_loesche(haupt_ordner, ausgabe_widget):\n",
    "    \"\"\"\n",
    "    Durchläuft rekursiv alle Unterordner und löscht Dateien und leere Ordner.\n",
    "    \"\"\"\n",
    "    geloeschte_dateien = []\n",
    "    geloeschte_ordner = []\n",
    "\n",
    "    for aktueller_pfad, unterordner, dateien in os.walk(haupt_ordner, topdown=False):\n",
    "        if aktueller_pfad != haupt_ordner:\n",
    "            for datei in dateien:\n",
    "                datei_pfad = os.path.join(aktueller_pfad, datei)\n",
    "                try:\n",
    "                    os.remove(datei_pfad)\n",
    "                    geloeschte_dateien.append(datei_pfad)\n",
    "                except OSError as e:\n",
    "                    with ausgabe_widget:\n",
    "                        print_rot(f\"Fehler beim Löschen von {datei_pfad}: {e}\")\n",
    "\n",
    "            # Nach dem Löschen der Dateien prüfen, ob der Ordner leer ist\n",
    "            if not os.listdir(aktueller_pfad):\n",
    "                try:\n",
    "                    os.rmdir(aktueller_pfad)\n",
    "                    geloeschte_ordner.append(aktueller_pfad)\n",
    "                except OSError as e:\n",
    "                    with ausgabe_widget:\n",
    "                        print_rot(f\"Fehler beim Entfernen von Ordner {aktueller_pfad}: {e}\")\n",
    "\n",
    "    return geloeschte_dateien, geloeschte_ordner\n",
    "\n",
    "def print_rot(text):\n",
    "    \"\"\"Gibt den übergebenen Text in roter Farbe in der Ausgabe aus.\"\"\"\n",
    "    rot_farbe = \"\\033[91m\"\n",
    "    reset_farbe = \"\\033[0m\"\n",
    "    print(f\"{rot_farbe}{text}{reset_farbe}\")\n",
    "\n",
    "def interaktive_bereinigung():\n",
    "    haupt_ordner = os.getcwd()\n",
    "    ausgabe = widgets.Output()\n",
    "\n",
    "    zu_loeschende_dateien, zu_entfernende_ordner = finde_und_loesche(haupt_ordner, ausgabe)\n",
    "\n",
    "    if zu_loeschende_dateien or zu_entfernende_ordner:\n",
    "        print(\"Folgende Elemente werden in den Unterordnern des aktuellen Arbeitsverzeichnisses gelöscht:\")\n",
    "        for pfad in zu_loeschende_dateien:\n",
    "            print(f\"- Datei: {pfad}\")\n",
    "        for pfad in zu_entfernende_ordner:\n",
    "            print(f\"- Ordner: {pfad}\")\n",
    "\n",
    "        bestaetigungs_button = widgets.Button(description=\"Ja, löschen\", button_style='danger')\n",
    "        abbrechen_button = widgets.Button(description=\"Nein, abbrechen\")\n",
    "\n",
    "        def beim_bestaetigen_geklickt(b):\n",
    "            with ausgabe:\n",
    "                clear_output(wait=True) # Vorherige Ausgabe löschen\n",
    "                print(\"Starte Bereinigung...\")\n",
    "                tatsaechlich_geloeschte_dateien, tatsaechlich_entfernte_ordner = finde_und_loesche(haupt_ordner, ausgabe)\n",
    "                if tatsaechlich_geloeschte_dateien:\n",
    "                    print(f\"\\n{len(tatsaechlich_geloeschte_dateien)} Dateien gelöscht.\")\n",
    "                if tatsaechlich_entfernte_ordner:\n",
    "                    print(f\"{len(tatsaechlich_entfernte_ordner)} leere Ordner entfernt.\")\n",
    "                print(\"\\nBereinigung abgeschlossen.\")\n",
    "                bestaetigungs_button.disabled = True\n",
    "                abbrechen_button.disabled = True\n",
    "\n",
    "        def beim_abbrechen_geklickt(b):\n",
    "            with ausgabe:\n",
    "                clear_output(wait=True)\n",
    "                print(\"Vorgang abgebrochen. Keine Dateien oder Ordner wurden gelöscht.\")\n",
    "                bestaetigungs_button.disabled = True\n",
    "                abbrechen_button.disabled = True\n",
    "\n",
    "        bestaetigungs_button.on_click(beim_bestaetigen_geklickt)\n",
    "        abbrechen_button.on_click(beim_abbrechen_geklickt)\n",
    "\n",
    "        display(widgets.VBox([bestaetigungs_button, abbrechen_button, ausgabe]))\n",
    "\n",
    "    else:\n",
    "        print(\"Keine Dateien oder Unterordner zum Löschen gefunden.\")\n",
    "\n",
    "if __name__ == \"__main__\":\n",
    "    interaktive_bereinigung()"
   ]
  },
  {
   "cell_type": "code",
   "execution_count": null,
   "id": "25d4b75e-b716-401a-ac0c-bbe530d5f38e",
   "metadata": {},
   "outputs": [],
   "source": []
  }
 ],
 "metadata": {
  "kernelspec": {
   "display_name": "Python 3 (ipykernel)",
   "language": "python",
   "name": "python3"
  },
  "language_info": {
   "codemirror_mode": {
    "name": "ipython",
    "version": 3
   },
   "file_extension": ".py",
   "mimetype": "text/x-python",
   "name": "python",
   "nbconvert_exporter": "python",
   "pygments_lexer": "ipython3",
   "version": "3.8.15"
  }
 },
 "nbformat": 4,
 "nbformat_minor": 5
}
