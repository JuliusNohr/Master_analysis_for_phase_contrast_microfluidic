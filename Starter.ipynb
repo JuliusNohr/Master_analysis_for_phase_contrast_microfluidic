{
 "cells": [
  {
   "cell_type": "markdown",
   "id": "0715575b-c63e-41e9-a713-50e9da97e513",
   "metadata": {},
   "source": [
    "# Starter Script\n",
    "- This script creates the required folder structure in a new project to start the analysis.\n",
    "- A single execution is sufficient."
   ]
  },
  {
   "cell_type": "code",
   "execution_count": 3,
   "id": "215ece07-62d5-4dd3-a4da-84cdea5a4eb8",
   "metadata": {},
   "outputs": [
    {
     "name": "stdout",
     "output_type": "stream",
     "text": [
      "File 'ID_all/gelaufen.csv' already exists.\n",
      "File 'ID_all/ID_in_use.csv' already exists.\n",
      "File 'ID_all/ID_Names.csv' already exists.\n",
      "All necessary folders and files have been checked and created if necessary.\n"
     ]
    }
   ],
   "source": [
    "import os\n",
    "import errno\n",
    "from pathlib import Path\n",
    "\n",
    "def create_directory_if_not_exists(path):\n",
    "    \"\"\"\n",
    "    Creates a directory if it does not exist.\n",
    "\n",
    "    Args:\n",
    "        path (Path): The path to the directory to create.\n",
    "    \"\"\"\n",
    "    if not os.path.exists(path):\n",
    "        try:\n",
    "            os.makedirs(path)\n",
    "            print(f\"Directory '{path}' created.\")\n",
    "        except OSError as e:\n",
    "            if e.errno != errno.EEXIST:  # Check if the error is not \"File exists\"\n",
    "                raise  # If not, re-raise the error\n",
    "            else:\n",
    "                print(f\"Directory '{path}' already exists.\")  # Explicit output if the directory already exists\n",
    "\n",
    "\n",
    "def create_file_if_not_exists(path, content=\"\"):\n",
    "    \"\"\"\n",
    "    Creates a file if it does not exist, and optionally writes content into it.\n",
    "\n",
    "    Args:\n",
    "        path (Path): The path to the file to create.\n",
    "        content (str, optional): The content to write to the file. Default is an empty string.\n",
    "    \"\"\"\n",
    "    if not os.path.exists(path):\n",
    "        try:\n",
    "            with open(path, 'w') as f:\n",
    "                f.write(content)\n",
    "            print(f\"File '{path}' created.\")\n",
    "        except Exception as e:\n",
    "            print(f\"Error creating file '{path}': {e}\")\n",
    "    else:\n",
    "        print(f\"File '{path}' already exists.\")\n",
    "\n",
    "\n",
    "\n",
    "def main():\n",
    "    \"\"\"\n",
    "    Main function that creates the directories and files.\n",
    "    \"\"\"\n",
    "    # Define the base path\n",
    "    base_path = Path(\"./\")  # Relative path to the current working directory\n",
    "\n",
    "    # Directories to create\n",
    "    directories_to_create = [\n",
    "        base_path / \"Experiments\",\n",
    "        base_path / \"ID_all\",\n",
    "        base_path / \"Master_plots\",\n",
    "        base_path / \"Master_results\",\n",
    "    ]\n",
    "\n",
    "    # Files to create with optional content\n",
    "    files_to_create = [\n",
    "        (base_path / \"ID_all\" / \"gelaufen.csv\", \"ID;gelaufen?;Date(yy-mm-dd);Time(hh-mm-ss);Duration_Scaling\"),\n",
    "        (base_path / \"ID_all\" / \"ID_in_use.csv\", \"OmeroID\"),\n",
    "        (base_path / \"ID_all\" / \"ID_Names.csv\", \"ID;Name\"),\n",
    "    ]\n",
    "\n",
    "    # Create directories\n",
    "    for directory in directories_to_create:\n",
    "        create_directory_if_not_exists(directory)\n",
    "\n",
    "    # Create files\n",
    "    for file_path, content in files_to_create:\n",
    "        create_file_if_not_exists(file_path, content)\n",
    "\n",
    "    print(\"All necessary folders and files have been checked and created if necessary.\")\n",
    "\n",
    "\n",
    "\n",
    "if __name__ == \"__main__\":\n",
    "    main()\n"
   ]
  },
  {
   "cell_type": "code",
   "execution_count": 1,
   "id": "c50aea25-24f2-41f9-b6b6-2dd6f4a60d83",
   "metadata": {},
   "outputs": [
    {
     "name": "stdout",
     "output_type": "stream",
     "text": [
      "Die Liste der Pakete wurde in 'package.csv' gespeichert.\n"
     ]
    }
   ],
   "source": [
    "import pkg_resources\n",
    "import csv\n",
    "\n",
    "def get_installed_packages():\n",
    "    installed_packages = pkg_resources.working_set\n",
    "    packages_with_versions = []\n",
    "    for package in installed_packages:\n",
    "        packages_with_versions.append({'package': package.key, 'version': package.version})\n",
    "    return packages_with_versions\n",
    "\n",
    "def save_packages_to_csv(packages, filename=\"package.csv\"):\n",
    "    with open(filename, 'w', newline='') as csvfile:\n",
    "        fieldnames = ['package', 'version']\n",
    "        writer = csv.DictWriter(csvfile, fieldnames=fieldnames)\n",
    "\n",
    "        writer.writeheader()\n",
    "        for package_info in packages:\n",
    "            writer.writerow(package_info)\n",
    "    print(f\"Die Liste der Pakete wurde in '{filename}' gespeichert.\")\n",
    "\n",
    "if __name__ == \"__main__\":\n",
    "    packages = get_installed_packages()\n",
    "    save_packages_to_csv(packages)"
   ]
  },
  {
   "cell_type": "code",
   "execution_count": null,
   "id": "f0575a3a-d4e1-4b57-8c4c-40e4ef814e25",
   "metadata": {},
   "outputs": [],
   "source": []
  }
 ],
 "metadata": {
  "kernelspec": {
   "display_name": "Python 3 (ipykernel)",
   "language": "python",
   "name": "python3"
  },
  "language_info": {
   "codemirror_mode": {
    "name": "ipython",
    "version": 3
   },
   "file_extension": ".py",
   "mimetype": "text/x-python",
   "name": "python",
   "nbconvert_exporter": "python",
   "pygments_lexer": "ipython3",
   "version": "3.8.15"
  }
 },
 "nbformat": 4,
 "nbformat_minor": 5
}
